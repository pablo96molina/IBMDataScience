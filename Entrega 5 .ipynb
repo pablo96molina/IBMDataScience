{
 "cells": [
  {
   "cell_type": "markdown",
   "id": "5b082fd7",
   "metadata": {},
   "source": [
    "# Introduction:"
   ]
  },
  {
   "cell_type": "markdown",
   "id": "0e099fa9",
   "metadata": {},
   "source": [
    "Se quiere conocer la cantidad de escuelas que existen en distintos barrios de Montevideo, Uruguay y la relacion escuelas/población que hay, se trabajará con el supuesto de que los niños en edad de trabajar se distribuyen de forma similar a la población del barrio."
   ]
  },
  {
   "cell_type": "markdown",
   "id": "81f4f675",
   "metadata": {},
   "source": [
    "### Datos"
   ]
  },
  {
   "cell_type": "markdown",
   "id": "028ad94b",
   "metadata": {},
   "source": [
    "Fuente de datos de población por barrio = https://www.ine.gub.uy/documents/10181/34704/informeMONTEVIDEO.pdf/52135d7b-0465-4db6-b930-c55cf7a50447\n",
    "\n",
    "\n",
    "Datos de población por barrios utilizados = https://github.com/pablo96molina/IBMDataScience/blob/main/Poblacion%20por%20barrios.xls"
   ]
  },
  {
   "cell_type": "code",
   "execution_count": 71,
   "id": "7cb916e8",
   "metadata": {},
   "outputs": [
    {
     "name": "stdout",
     "output_type": "stream",
     "text": [
      "Requirement already satisfied: geopy in c:\\users\\pmolina\\anaconda3\\lib\\site-packages (2.2.0)\n",
      "Requirement already satisfied: geographiclib<2,>=1.49 in c:\\users\\pmolina\\anaconda3\\lib\\site-packages (from geopy) (1.52)\n"
     ]
    }
   ],
   "source": [
    "import requests # librería para manejar las solicitudes\n",
    "import pandas as pd # librería para análisis de datos\n",
    "import numpy as np # librería para manejar datos vectorizados\n",
    "import random # librería para generar números aleatorios\n",
    "\n",
    "!pip install geopy\n",
    "from geopy.geocoders import Nominatim # módulo para convertir una dirección en valores de latitud y longitud \n",
    "\n",
    "# librerías para mostrar imágenes \n",
    "from IPython.display import Image \n",
    "from IPython.core.display import HTML \n",
    "    \n",
    "# librería para convertir un archivo json en un dataframe pandas\n",
    "from pandas.io.json import json_normalize\n",
    "\n",
    "from geopy.geocoders import Nominatim # convert an address into latitude and longitude values\n",
    "# Matplotlib and associated plotting modules\n",
    "import matplotlib.pyplot as plt\n",
    "import matplotlib.cm as cm\n",
    "import matplotlib.colors as colors\n",
    "%matplotlib inline\n"
   ]
  },
  {
   "cell_type": "code",
   "execution_count": 72,
   "id": "299089f1",
   "metadata": {},
   "outputs": [
    {
     "data": {
      "text/html": [
       "<div>\n",
       "<style scoped>\n",
       "    .dataframe tbody tr th:only-of-type {\n",
       "        vertical-align: middle;\n",
       "    }\n",
       "\n",
       "    .dataframe tbody tr th {\n",
       "        vertical-align: top;\n",
       "    }\n",
       "\n",
       "    .dataframe thead th {\n",
       "        text-align: right;\n",
       "    }\n",
       "</style>\n",
       "<table border=\"1\" class=\"dataframe\">\n",
       "  <thead>\n",
       "    <tr style=\"text-align: right;\">\n",
       "      <th></th>\n",
       "      <th>Barrio</th>\n",
       "      <th>Codigo Barrio</th>\n",
       "      <th>Total</th>\n",
       "      <th>Hombre</th>\n",
       "      <th>Mujer</th>\n",
       "    </tr>\n",
       "  </thead>\n",
       "  <tbody>\n",
       "    <tr>\n",
       "      <th>0</th>\n",
       "      <td>Total</td>\n",
       "      <td>0</td>\n",
       "      <td>1318755</td>\n",
       "      <td>613756</td>\n",
       "      <td>704999</td>\n",
       "    </tr>\n",
       "    <tr>\n",
       "      <th>1</th>\n",
       "      <td>Ciudad Vieja</td>\n",
       "      <td>1</td>\n",
       "      <td>12555</td>\n",
       "      <td>5853</td>\n",
       "      <td>6702</td>\n",
       "    </tr>\n",
       "    <tr>\n",
       "      <th>2</th>\n",
       "      <td>Centro</td>\n",
       "      <td>2</td>\n",
       "      <td>22120</td>\n",
       "      <td>9562</td>\n",
       "      <td>12558</td>\n",
       "    </tr>\n",
       "    <tr>\n",
       "      <th>3</th>\n",
       "      <td>Barrio Sur</td>\n",
       "      <td>3</td>\n",
       "      <td>12639</td>\n",
       "      <td>5794</td>\n",
       "      <td>6845</td>\n",
       "    </tr>\n",
       "    <tr>\n",
       "      <th>4</th>\n",
       "      <td>Cordón</td>\n",
       "      <td>4</td>\n",
       "      <td>42456</td>\n",
       "      <td>18517</td>\n",
       "      <td>23939</td>\n",
       "    </tr>\n",
       "    <tr>\n",
       "      <th>...</th>\n",
       "      <td>...</td>\n",
       "      <td>...</td>\n",
       "      <td>...</td>\n",
       "      <td>...</td>\n",
       "      <td>...</td>\n",
       "    </tr>\n",
       "    <tr>\n",
       "      <th>58</th>\n",
       "      <td>Colón Sureste, Abayubá</td>\n",
       "      <td>58</td>\n",
       "      <td>13429</td>\n",
       "      <td>6392</td>\n",
       "      <td>7037</td>\n",
       "    </tr>\n",
       "    <tr>\n",
       "      <th>59</th>\n",
       "      <td>Colón Centro y Noroeste</td>\n",
       "      <td>59</td>\n",
       "      <td>28849</td>\n",
       "      <td>13553</td>\n",
       "      <td>15296</td>\n",
       "    </tr>\n",
       "    <tr>\n",
       "      <th>60</th>\n",
       "      <td>Lezica, Melilla</td>\n",
       "      <td>60</td>\n",
       "      <td>16030</td>\n",
       "      <td>7856</td>\n",
       "      <td>8174</td>\n",
       "    </tr>\n",
       "    <tr>\n",
       "      <th>61</th>\n",
       "      <td>Villa García, Manga Rural</td>\n",
       "      <td>61</td>\n",
       "      <td>29502</td>\n",
       "      <td>14491</td>\n",
       "      <td>15011</td>\n",
       "    </tr>\n",
       "    <tr>\n",
       "      <th>62</th>\n",
       "      <td>Manga</td>\n",
       "      <td>62</td>\n",
       "      <td>20867</td>\n",
       "      <td>10078</td>\n",
       "      <td>10789</td>\n",
       "    </tr>\n",
       "  </tbody>\n",
       "</table>\n",
       "<p>63 rows × 5 columns</p>\n",
       "</div>"
      ],
      "text/plain": [
       "                       Barrio  Codigo Barrio    Total  Hombre   Mujer\n",
       "0                       Total              0  1318755  613756  704999\n",
       "1                Ciudad Vieja              1    12555    5853    6702\n",
       "2                      Centro              2    22120    9562   12558\n",
       "3                  Barrio Sur              3    12639    5794    6845\n",
       "4                      Cordón              4    42456   18517   23939\n",
       "..                        ...            ...      ...     ...     ...\n",
       "58     Colón Sureste, Abayubá             58    13429    6392    7037\n",
       "59    Colón Centro y Noroeste             59    28849   13553   15296\n",
       "60            Lezica, Melilla             60    16030    7856    8174\n",
       "61  Villa García, Manga Rural             61    29502   14491   15011\n",
       "62                      Manga             62    20867   10078   10789\n",
       "\n",
       "[63 rows x 5 columns]"
      ]
     },
     "execution_count": 72,
     "metadata": {},
     "output_type": "execute_result"
    }
   ],
   "source": [
    "#Datos de habitantes por barrio\n",
    "data = pd.read_excel(\"Poblacion por barrios.xls\")\n",
    "censo = pd.DataFrame(data)\n",
    "censo"
   ]
  },
  {
   "cell_type": "code",
   "execution_count": 73,
   "id": "4d3ae908",
   "metadata": {},
   "outputs": [
    {
     "data": {
      "text/html": [
       "<div>\n",
       "<style scoped>\n",
       "    .dataframe tbody tr th:only-of-type {\n",
       "        vertical-align: middle;\n",
       "    }\n",
       "\n",
       "    .dataframe tbody tr th {\n",
       "        vertical-align: top;\n",
       "    }\n",
       "\n",
       "    .dataframe thead th {\n",
       "        text-align: right;\n",
       "    }\n",
       "</style>\n",
       "<table border=\"1\" class=\"dataframe\">\n",
       "  <thead>\n",
       "    <tr style=\"text-align: right;\">\n",
       "      <th></th>\n",
       "      <th>Barrio</th>\n",
       "      <th>Codigo Barrio</th>\n",
       "      <th>Total</th>\n",
       "      <th>Hombre</th>\n",
       "      <th>Mujer</th>\n",
       "    </tr>\n",
       "  </thead>\n",
       "  <tbody>\n",
       "    <tr>\n",
       "      <th>0</th>\n",
       "      <td>Total</td>\n",
       "      <td>0</td>\n",
       "      <td>1318755</td>\n",
       "      <td>613756</td>\n",
       "      <td>704999</td>\n",
       "    </tr>\n",
       "    <tr>\n",
       "      <th>8</th>\n",
       "      <td>Pocitos</td>\n",
       "      <td>8</td>\n",
       "      <td>67992</td>\n",
       "      <td>29393</td>\n",
       "      <td>38599</td>\n",
       "    </tr>\n",
       "    <tr>\n",
       "      <th>4</th>\n",
       "      <td>Cordón</td>\n",
       "      <td>4</td>\n",
       "      <td>42456</td>\n",
       "      <td>18517</td>\n",
       "      <td>23939</td>\n",
       "    </tr>\n",
       "    <tr>\n",
       "      <th>23</th>\n",
       "      <td>Unión</td>\n",
       "      <td>23</td>\n",
       "      <td>39880</td>\n",
       "      <td>18046</td>\n",
       "      <td>21834</td>\n",
       "    </tr>\n",
       "    <tr>\n",
       "      <th>37</th>\n",
       "      <td>La Paloma, Tomkinson</td>\n",
       "      <td>37</td>\n",
       "      <td>37424</td>\n",
       "      <td>18241</td>\n",
       "      <td>19183</td>\n",
       "    </tr>\n",
       "  </tbody>\n",
       "</table>\n",
       "</div>"
      ],
      "text/plain": [
       "                  Barrio  Codigo Barrio    Total  Hombre   Mujer\n",
       "0                  Total              0  1318755  613756  704999\n",
       "8                Pocitos              8    67992   29393   38599\n",
       "4                 Cordón              4    42456   18517   23939\n",
       "23                 Unión             23    39880   18046   21834\n",
       "37  La Paloma, Tomkinson             37    37424   18241   19183"
      ]
     },
     "execution_count": 73,
     "metadata": {},
     "output_type": "execute_result"
    }
   ],
   "source": [
    "censo.sort_values(\"Total\",ascending = False).head()"
   ]
  },
  {
   "cell_type": "code",
   "execution_count": 74,
   "id": "3b487975",
   "metadata": {},
   "outputs": [
    {
     "data": {
      "text/plain": [
       "4    42456\n",
       "Name: Total, dtype: int64"
      ]
     },
     "execution_count": 74,
     "metadata": {},
     "output_type": "execute_result"
    }
   ],
   "source": [
    "#Población del Barrio Cordón\n",
    "barrio = censo[\"Barrio\"] == \"Cordón\" \n",
    "cordon = censo[barrio]\n",
    "Total_Cordon = cordon[\"Total\"]\n",
    "Total_Cordon"
   ]
  },
  {
   "cell_type": "code",
   "execution_count": 75,
   "id": "d5b37e5e",
   "metadata": {},
   "outputs": [
    {
     "data": {
      "text/plain": [
       "8    67992\n",
       "Name: Total, dtype: int64"
      ]
     },
     "execution_count": 75,
     "metadata": {},
     "output_type": "execute_result"
    }
   ],
   "source": [
    "barrio = censo[\"Barrio\"] == \"Pocitos\" \n",
    "pocitos = censo[barrio]\n",
    "Total_Pocitos = pocitos[\"Total\"]\n",
    "Total_Pocitos"
   ]
  },
  {
   "cell_type": "code",
   "execution_count": 76,
   "id": "954e6654",
   "metadata": {},
   "outputs": [
    {
     "data": {
      "text/plain": [
       "2    22120\n",
       "Name: Total, dtype: int64"
      ]
     },
     "execution_count": 76,
     "metadata": {},
     "output_type": "execute_result"
    }
   ],
   "source": [
    "barrio = censo[\"Barrio\"] == \"Centro\" \n",
    "centro = censo[barrio]\n",
    "Total_Centro = centro[\"Total\"]\n",
    "Total_Centro"
   ]
  },
  {
   "cell_type": "code",
   "execution_count": 77,
   "id": "025a895f",
   "metadata": {},
   "outputs": [
    {
     "data": {
      "text/plain": [
       "23    39880\n",
       "Name: Total, dtype: int64"
      ]
     },
     "execution_count": 77,
     "metadata": {},
     "output_type": "execute_result"
    }
   ],
   "source": [
    "barrio = censo[\"Barrio\"] == \"Unión\" \n",
    "union = censo[barrio]\n",
    "Total_Union = union[\"Total\"]\n",
    "Total_Union"
   ]
  },
  {
   "cell_type": "code",
   "execution_count": 78,
   "id": "ef388824",
   "metadata": {},
   "outputs": [
    {
     "name": "stdout",
     "output_type": "stream",
     "text": [
      "Your credentails:\n",
      "CLIENT_ID: M2DA2HFQR0YEEQKV2GLPOXHTPISH3RTP20XRS1U5VV4OLSYN\n",
      "CLIENT_SECRET:ZQPJSD30YSX3KX5OHK3RWUJOI5UW3OWWLVSNPDM2MWIG1XPT\n"
     ]
    }
   ],
   "source": [
    "#Me conecto a Foursquare\n",
    "\n",
    "CLIENT_ID = 'M2DA2HFQR0YEEQKV2GLPOXHTPISH3RTP20XRS1U5VV4OLSYN' # su ID de Foursquare\n",
    "CLIENT_SECRET = 'ZQPJSD30YSX3KX5OHK3RWUJOI5UW3OWWLVSNPDM2MWIG1XPT' # su Secreto de Cliente de Foursquare\n",
    "VERSION = '20180604'\n",
    "LIMIT = 30\n",
    "print('Your credentails:')\n",
    "print('CLIENT_ID: ' + CLIENT_ID)\n",
    "print('CLIENT_SECRET:' + CLIENT_SECRET)"
   ]
  },
  {
   "cell_type": "code",
   "execution_count": 79,
   "id": "4204fcb3",
   "metadata": {},
   "outputs": [
    {
     "name": "stderr",
     "output_type": "stream",
     "text": [
      "<ipython-input-79-487ce995b2fc>:17: FutureWarning: pandas.io.json.json_normalize is deprecated, use pandas.json_normalize instead\n",
      "  dataframe = json_normalize(venues)\n"
     ]
    }
   ],
   "source": [
    "#Buscamos la cantidad de escuelas de Cordón\n",
    "address = 'Cordón, Montevideo, UY'\n",
    "\n",
    "geolocator = Nominatim(user_agent=\"foursquare_agent\")\n",
    "location = geolocator.geocode(address)\n",
    "latitude = location.latitude\n",
    "longitude = location.longitude\n",
    "search_query = 'Escuela'\n",
    "radius = 1000\n",
    "\n",
    "url = 'https://api.foursquare.com/v2/venues/search?client_id={}&client_secret={}&ll={},{}&v={}&query={}&radius={}&limit={}'.format(CLIENT_ID, CLIENT_SECRET, latitude, longitude, VERSION, search_query, radius, LIMIT)\n",
    "results = requests.get(url).json()\n",
    "# asignar la parte relevante del JSON a la variable venues\n",
    "venues = results['response']['venues']\n",
    "\n",
    "# convertir venues en un dataframe\n",
    "dataframe = json_normalize(venues)\n",
    "\n",
    "esc_cordon=dataframe[\"id\"].count()\n",
    "esc_cordon_perca = esc_cordon/ Total_Cordon"
   ]
  },
  {
   "cell_type": "code",
   "execution_count": 80,
   "id": "aa68d992",
   "metadata": {},
   "outputs": [
    {
     "name": "stderr",
     "output_type": "stream",
     "text": [
      "<ipython-input-80-6be7fd444c64>:15: FutureWarning: pandas.io.json.json_normalize is deprecated, use pandas.json_normalize instead\n",
      "  dataframe = json_normalize(venues)\n"
     ]
    }
   ],
   "source": [
    "#Buscamos la cantidad de escuelas de Pocitos\n",
    "address = 'Pocitos, Montevideo, UY'\n",
    "\n",
    "geolocator = Nominatim(user_agent=\"foursquare_agent\")\n",
    "location = geolocator.geocode(address)\n",
    "latitude = location.latitude\n",
    "longitude = location.longitude\n",
    "\n",
    "url = 'https://api.foursquare.com/v2/venues/search?client_id={}&client_secret={}&ll={},{}&v={}&query={}&radius={}&limit={}'.format(CLIENT_ID, CLIENT_SECRET, latitude, longitude, VERSION, search_query, radius, LIMIT)\n",
    "results = requests.get(url).json()\n",
    "# asignar la parte relevante del JSON a la variable venues\n",
    "venues = results['response']['venues']\n",
    "\n",
    "# convertir venues en un dataframe\n",
    "dataframe = json_normalize(venues)\n",
    "\n",
    "esc_pocitos=dataframe[\"id\"].count()\n",
    "esc_pocitos_perca = esc_pocitos/ Total_Pocitos"
   ]
  },
  {
   "cell_type": "code",
   "execution_count": 81,
   "id": "a93dabfb",
   "metadata": {},
   "outputs": [
    {
     "name": "stderr",
     "output_type": "stream",
     "text": [
      "<ipython-input-81-68837c1de3a1>:15: FutureWarning: pandas.io.json.json_normalize is deprecated, use pandas.json_normalize instead\n",
      "  dataframe = json_normalize(venues)\n"
     ]
    }
   ],
   "source": [
    "#Buscamos la cantidad de escuelas en Centro\n",
    "address = 'Centro, Montevideo, UY'\n",
    "\n",
    "geolocator = Nominatim(user_agent=\"foursquare_agent\")\n",
    "location = geolocator.geocode(address)\n",
    "latitude = location.latitude\n",
    "longitude = location.longitude\n",
    "\n",
    "url = 'https://api.foursquare.com/v2/venues/search?client_id={}&client_secret={}&ll={},{}&v={}&query={}&radius={}&limit={}'.format(CLIENT_ID, CLIENT_SECRET, latitude, longitude, VERSION, search_query, radius, LIMIT)\n",
    "results = requests.get(url).json()\n",
    "# asignar la parte relevante del JSON a la variable venues\n",
    "venues = results['response']['venues']\n",
    "\n",
    "# convertir venues en un dataframe\n",
    "dataframe = json_normalize(venues)\n",
    "\n",
    "esc_centro=dataframe[\"id\"].count()\n",
    "esc_centro_perca = esc_centro/ Total_Centro"
   ]
  },
  {
   "cell_type": "code",
   "execution_count": 82,
   "id": "e642228d",
   "metadata": {},
   "outputs": [
    {
     "name": "stderr",
     "output_type": "stream",
     "text": [
      "<ipython-input-82-3488388ced0e>:15: FutureWarning: pandas.io.json.json_normalize is deprecated, use pandas.json_normalize instead\n",
      "  dataframe = json_normalize(venues)\n"
     ]
    }
   ],
   "source": [
    "#Buscamos la cantidad de escuelas en Unión\n",
    "address = 'Unión, Montevideo, UY'\n",
    "\n",
    "geolocator = Nominatim(user_agent=\"foursquare_agent\")\n",
    "location = geolocator.geocode(address)\n",
    "latitude = location.latitude\n",
    "longitude = location.longitude\n",
    "\n",
    "url = 'https://api.foursquare.com/v2/venues/search?client_id={}&client_secret={}&ll={},{}&v={}&query={}&radius={}&limit={}'.format(CLIENT_ID, CLIENT_SECRET, latitude, longitude, VERSION, search_query, radius, LIMIT)\n",
    "results = requests.get(url).json()\n",
    "# asignar la parte relevante del JSON a la variable venues\n",
    "venues = results['response']['venues']\n",
    "\n",
    "# convertir venues en un dataframe\n",
    "dataframe = json_normalize(venues)\n",
    "\n",
    "esc_union=dataframe[\"id\"].count()\n",
    "esc_union_perca = esc_union/ Total_Union"
   ]
  },
  {
   "cell_type": "code",
   "execution_count": 96,
   "id": "834dd53d",
   "metadata": {},
   "outputs": [
    {
     "name": "stdout",
     "output_type": "stream",
     "text": [
      "4    42456\n",
      "Name: Total, dtype: int64\n",
      "8    67992\n",
      "Name: Total, dtype: int64\n",
      "2    22120\n",
      "Name: Total, dtype: int64\n",
      "23    39880\n",
      "Name: Total, dtype: int64\n"
     ]
    }
   ],
   "source": [
    "print(Total_Cordon)\n",
    "print(Total_Pocitos)\n",
    "print(Total_Centro)\n",
    "print(Total_Union)\n"
   ]
  },
  {
   "cell_type": "code",
   "execution_count": 97,
   "id": "632f0006",
   "metadata": {},
   "outputs": [
    {
     "data": {
      "text/html": [
       "<div>\n",
       "<style scoped>\n",
       "    .dataframe tbody tr th:only-of-type {\n",
       "        vertical-align: middle;\n",
       "    }\n",
       "\n",
       "    .dataframe tbody tr th {\n",
       "        vertical-align: top;\n",
       "    }\n",
       "\n",
       "    .dataframe thead th {\n",
       "        text-align: right;\n",
       "    }\n",
       "</style>\n",
       "<table border=\"1\" class=\"dataframe\">\n",
       "  <thead>\n",
       "    <tr style=\"text-align: right;\">\n",
       "      <th></th>\n",
       "      <th>Barrio</th>\n",
       "      <th>Población</th>\n",
       "    </tr>\n",
       "  </thead>\n",
       "  <tbody>\n",
       "    <tr>\n",
       "      <th>0</th>\n",
       "      <td>Cordon</td>\n",
       "      <td>42456</td>\n",
       "    </tr>\n",
       "    <tr>\n",
       "      <th>1</th>\n",
       "      <td>Pocitos</td>\n",
       "      <td>67992</td>\n",
       "    </tr>\n",
       "    <tr>\n",
       "      <th>2</th>\n",
       "      <td>Centro</td>\n",
       "      <td>22120</td>\n",
       "    </tr>\n",
       "    <tr>\n",
       "      <th>3</th>\n",
       "      <td>Union</td>\n",
       "      <td>39880</td>\n",
       "    </tr>\n",
       "  </tbody>\n",
       "</table>\n",
       "</div>"
      ],
      "text/plain": [
       "    Barrio  Población\n",
       "0   Cordon      42456\n",
       "1  Pocitos      67992\n",
       "2   Centro      22120\n",
       "3    Union      39880"
      ]
     },
     "execution_count": 97,
     "metadata": {},
     "output_type": "execute_result"
    }
   ],
   "source": [
    "cant_pob = pd.DataFrame({\"Barrio\":[\"Cordon\",\"Pocitos\",\"Centro\",\"Union\"], \"Población\" : [42456,67992,22120,39880]})\n",
    "cant_pob"
   ]
  },
  {
   "cell_type": "code",
   "execution_count": 98,
   "id": "7e0676fb",
   "metadata": {},
   "outputs": [
    {
     "data": {
      "text/plain": [
       "<BarContainer object of 4 artists>"
      ]
     },
     "execution_count": 98,
     "metadata": {},
     "output_type": "execute_result"
    },
    {
     "data": {
      "image/png": "[encoded data removed]",
      "text/plain": [
       "<Figure size 432x288 with 1 Axes>"
      ]
     },
     "metadata": {
      "needs_background": "light"
     },
     "output_type": "display_data"
    }
   ],
   "source": [
    "names = cant_pob[\"Barrio\"]\n",
    "values = cant_pob[\"Población\"]\n",
    "plt.bar(names, values)"
   ]
  },
  {
   "cell_type": "code",
   "execution_count": 83,
   "id": "8f6f7e95",
   "metadata": {},
   "outputs": [
    {
     "name": "stdout",
     "output_type": "stream",
     "text": [
      "30\n",
      "14\n",
      "30\n",
      "8\n"
     ]
    }
   ],
   "source": [
    "print(esc_cordon)\n",
    "print(esc_pocitos)\n",
    "print(esc_centro)\n",
    "print(esc_union)\n"
   ]
  },
  {
   "cell_type": "code",
   "execution_count": 84,
   "id": "bcea5b2b",
   "metadata": {},
   "outputs": [
    {
     "data": {
      "text/html": [
       "<div>\n",
       "<style scoped>\n",
       "    .dataframe tbody tr th:only-of-type {\n",
       "        vertical-align: middle;\n",
       "    }\n",
       "\n",
       "    .dataframe tbody tr th {\n",
       "        vertical-align: top;\n",
       "    }\n",
       "\n",
       "    .dataframe thead th {\n",
       "        text-align: right;\n",
       "    }\n",
       "</style>\n",
       "<table border=\"1\" class=\"dataframe\">\n",
       "  <thead>\n",
       "    <tr style=\"text-align: right;\">\n",
       "      <th></th>\n",
       "      <th>Barrio</th>\n",
       "      <th>Escuelas</th>\n",
       "    </tr>\n",
       "  </thead>\n",
       "  <tbody>\n",
       "    <tr>\n",
       "      <th>0</th>\n",
       "      <td>Cordon</td>\n",
       "      <td>30</td>\n",
       "    </tr>\n",
       "    <tr>\n",
       "      <th>1</th>\n",
       "      <td>Pocitos</td>\n",
       "      <td>14</td>\n",
       "    </tr>\n",
       "    <tr>\n",
       "      <th>2</th>\n",
       "      <td>Centro</td>\n",
       "      <td>30</td>\n",
       "    </tr>\n",
       "    <tr>\n",
       "      <th>3</th>\n",
       "      <td>Union</td>\n",
       "      <td>8</td>\n",
       "    </tr>\n",
       "  </tbody>\n",
       "</table>\n",
       "</div>"
      ],
      "text/plain": [
       "    Barrio  Escuelas\n",
       "0   Cordon        30\n",
       "1  Pocitos        14\n",
       "2   Centro        30\n",
       "3    Union         8"
      ]
     },
     "execution_count": 84,
     "metadata": {},
     "output_type": "execute_result"
    }
   ],
   "source": [
    "cant_esc = pd.DataFrame({\"Barrio\":[\"Cordon\",\"Pocitos\",\"Centro\",\"Union\"], \"Escuelas\" : [30,14,30,8]})\n",
    "cant_esc"
   ]
  },
  {
   "cell_type": "code",
   "execution_count": 95,
   "id": "5d6ded97",
   "metadata": {},
   "outputs": [
    {
     "data": {
      "text/plain": [
       "<BarContainer object of 4 artists>"
      ]
     },
     "execution_count": 95,
     "metadata": {},
     "output_type": "execute_result"
    },
    {
     "data": {
      "image/png": "[encoded data removed]",
      "text/plain": [
       "<Figure size 432x288 with 1 Axes>"
      ]
     },
     "metadata": {
      "needs_background": "light"
     },
     "output_type": "display_data"
    }
   ],
   "source": [
    "names = cant_esc[\"Barrio\"]\n",
    "values = cant_esc[\"Escuelas\"]\n",
    "plt.bar(names, values)"
   ]
  },
  {
   "cell_type": "code",
   "execution_count": 99,
   "id": "a1c8750d",
   "metadata": {
    "scrolled": true
   },
   "outputs": [
    {
     "name": "stdout",
     "output_type": "stream",
     "text": [
      "4    0.000707\n",
      "Name: Total, dtype: float64\n",
      "8    0.000206\n",
      "Name: Total, dtype: float64\n",
      "2    0.001356\n",
      "Name: Total, dtype: float64\n",
      "23    0.000201\n",
      "Name: Total, dtype: float64\n"
     ]
    }
   ],
   "source": [
    "print(esc_cordon_perca)\n",
    "print(esc_pocitos_perca)\n",
    "print(esc_centro_perca)\n",
    "print(esc_union_perca)"
   ]
  },
  {
   "cell_type": "code",
   "execution_count": 100,
   "id": "5f1215e0",
   "metadata": {},
   "outputs": [
    {
     "data": {
      "text/html": [
       "<div>\n",
       "<style scoped>\n",
       "    .dataframe tbody tr th:only-of-type {\n",
       "        vertical-align: middle;\n",
       "    }\n",
       "\n",
       "    .dataframe tbody tr th {\n",
       "        vertical-align: top;\n",
       "    }\n",
       "\n",
       "    .dataframe thead th {\n",
       "        text-align: right;\n",
       "    }\n",
       "</style>\n",
       "<table border=\"1\" class=\"dataframe\">\n",
       "  <thead>\n",
       "    <tr style=\"text-align: right;\">\n",
       "      <th></th>\n",
       "      <th>Barrio</th>\n",
       "      <th>Escuelas per capita</th>\n",
       "    </tr>\n",
       "  </thead>\n",
       "  <tbody>\n",
       "    <tr>\n",
       "      <th>0</th>\n",
       "      <td>Cordon</td>\n",
       "      <td>0.000707</td>\n",
       "    </tr>\n",
       "    <tr>\n",
       "      <th>1</th>\n",
       "      <td>Pocitos</td>\n",
       "      <td>0.000206</td>\n",
       "    </tr>\n",
       "    <tr>\n",
       "      <th>2</th>\n",
       "      <td>Centro</td>\n",
       "      <td>0.001356</td>\n",
       "    </tr>\n",
       "    <tr>\n",
       "      <th>3</th>\n",
       "      <td>Union</td>\n",
       "      <td>0.000201</td>\n",
       "    </tr>\n",
       "  </tbody>\n",
       "</table>\n",
       "</div>"
      ],
      "text/plain": [
       "    Barrio  Escuelas per capita\n",
       "0   Cordon             0.000707\n",
       "1  Pocitos             0.000206\n",
       "2   Centro             0.001356\n",
       "3    Union             0.000201"
      ]
     },
     "execution_count": 100,
     "metadata": {},
     "output_type": "execute_result"
    }
   ],
   "source": [
    "cant_esc_perca = pd.DataFrame({\"Barrio\":[\"Cordon\",\"Pocitos\",\"Centro\",\"Union\"], \"Escuelas per capita\" : [0.000707,0.000206,0.001356,0.000201]})\n",
    "cant_esc_perca"
   ]
  },
  {
   "cell_type": "code",
   "execution_count": 102,
   "id": "7e0ad98d",
   "metadata": {},
   "outputs": [
    {
     "data": {
      "text/plain": [
       "<BarContainer object of 4 artists>"
      ]
     },
     "execution_count": 102,
     "metadata": {},
     "output_type": "execute_result"
    },
    {
     "data": {
      "image/png": "[encoded data removed]",
      "text/plain": [
       "<Figure size 432x288 with 1 Axes>"
      ]
     },
     "metadata": {
      "needs_background": "light"
     },
     "output_type": "display_data"
    }
   ],
   "source": [
    "names = cant_esc_perca[\"Barrio\"]\n",
    "values = cant_esc_perca[\"Escuelas per capita\"]\n",
    "plt.bar(names, values)"
   ]
  }
 ],
 "metadata": {
  "kernelspec": {
   "display_name": "Python 3",
   "language": "python",
   "name": "python3"
  },
  "language_info": {
   "codemirror_mode": {
    "name": "ipython",
    "version": 3
   },
   "file_extension": ".py",
   "mimetype": "text/x-python",
   "name": "python",
   "nbconvert_exporter": "python",
   "pygments_lexer": "ipython3",
   "version": "3.8.8"
  }
 },
 "nbformat": 4,
 "nbformat_minor": 5
}
